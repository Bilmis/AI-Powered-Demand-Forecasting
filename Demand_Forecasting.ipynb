{
  "nbformat": 4,
  "nbformat_minor": 0,
  "metadata": {
    "colab": {
      "provenance": []
    },
    "kernelspec": {
      "name": "python3",
      "display_name": "Python 3"
    },
    "language_info": {
      "name": "python"
    }
  },
  "cells": [
    {
      "cell_type": "markdown",
      "source": [
        "# Loading the dataset"
      ],
      "metadata": {
        "id": "CTZQHQw1PEUK"
      }
    },
    {
      "cell_type": "markdown",
      "source": [
        "import essential libraries"
      ],
      "metadata": {
        "id": "XZZk7BfHRj_N"
      }
    },
    {
      "cell_type": "code",
      "source": [
        "import pandas as pd\n",
        "import matplotlib.pyplot as plt\n",
        "import seaborn as sns\n",
        "import numpy as np"
      ],
      "metadata": {
        "id": "CXufmy_7RdQZ"
      },
      "execution_count": 1,
      "outputs": []
    },
    {
      "cell_type": "code",
      "source": [
        "url = \"https://raw.githubusercontent.com/Bilmis/AI-Powered-Demand-Forecasting/refs/heads/main/retail_store_inventory.csv\"\n",
        "df = pd.read_csv(url)\n",
        "print(df.head())"
      ],
      "metadata": {
        "colab": {
          "base_uri": "https://localhost:8080/"
        },
        "id": "owfTCSLFRtWm",
        "outputId": "d38d6eb1-887b-4f57-8c5c-58e27457cd44"
      },
      "execution_count": 3,
      "outputs": [
        {
          "output_type": "stream",
          "name": "stdout",
          "text": [
            "         Date Store ID Product ID     Category Region  Inventory Level  \\\n",
            "0  2022-01-01     S001      P0001    Groceries  North              231   \n",
            "1  2022-01-01     S001      P0002         Toys  South              204   \n",
            "2  2022-01-01     S001      P0003         Toys   West              102   \n",
            "3  2022-01-01     S001      P0004         Toys  North              469   \n",
            "4  2022-01-01     S001      P0005  Electronics   East              166   \n",
            "\n",
            "   Units Sold  Units Ordered  Demand Forecast  Price  Discount  \\\n",
            "0         127             55           135.47  33.50        20   \n",
            "1         150             66           144.04  63.01        20   \n",
            "2          65             51            74.02  27.99        10   \n",
            "3          61            164            62.18  32.72        10   \n",
            "4          14            135             9.26  73.64         0   \n",
            "\n",
            "  Weather Condition  Holiday/Promotion  Competitor Pricing Seasonality  \n",
            "0             Rainy                  0               29.69      Autumn  \n",
            "1             Sunny                  0               66.16      Autumn  \n",
            "2             Sunny                  1               31.32      Summer  \n",
            "3            Cloudy                  1               34.74      Autumn  \n",
            "4             Sunny                  0               68.95      Summer  \n"
          ]
        }
      ]
    },
    {
      "cell_type": "markdown",
      "source": [
        "# Data Preprocessing"
      ],
      "metadata": {
        "id": "cD2XeBiwTGP-"
      }
    },
    {
      "cell_type": "markdown",
      "source": [
        "Data cleaning"
      ],
      "metadata": {
        "id": "XCDHlsgGz95m"
      }
    },
    {
      "cell_type": "code",
      "source": [
        "df.info()\n",
        "#no null values"
      ],
      "metadata": {
        "colab": {
          "base_uri": "https://localhost:8080/"
        },
        "id": "jT6_xluLz_C0",
        "outputId": "29ced35c-3d66-4b32-da78-0f4dfb8ae47d"
      },
      "execution_count": 4,
      "outputs": [
        {
          "output_type": "stream",
          "name": "stdout",
          "text": [
            "<class 'pandas.core.frame.DataFrame'>\n",
            "RangeIndex: 73100 entries, 0 to 73099\n",
            "Data columns (total 15 columns):\n",
            " #   Column              Non-Null Count  Dtype  \n",
            "---  ------              --------------  -----  \n",
            " 0   Date                73100 non-null  object \n",
            " 1   Store ID            73100 non-null  object \n",
            " 2   Product ID          73100 non-null  object \n",
            " 3   Category            73100 non-null  object \n",
            " 4   Region              73100 non-null  object \n",
            " 5   Inventory Level     73100 non-null  int64  \n",
            " 6   Units Sold          73100 non-null  int64  \n",
            " 7   Units Ordered       73100 non-null  int64  \n",
            " 8   Demand Forecast     73100 non-null  float64\n",
            " 9   Price               73100 non-null  float64\n",
            " 10  Discount            73100 non-null  int64  \n",
            " 11  Weather Condition   73100 non-null  object \n",
            " 12  Holiday/Promotion   73100 non-null  int64  \n",
            " 13  Competitor Pricing  73100 non-null  float64\n",
            " 14  Seasonality         73100 non-null  object \n",
            "dtypes: float64(3), int64(5), object(7)\n",
            "memory usage: 8.4+ MB\n"
          ]
        }
      ]
    },
    {
      "cell_type": "code",
      "source": [
        "df.head()"
      ],
      "metadata": {
        "colab": {
          "base_uri": "https://localhost:8080/",
          "height": 310
        },
        "id": "4sga4e-F1Hq5",
        "outputId": "99650693-cab6-48cc-a42b-16d995d4eabd"
      },
      "execution_count": 5,
      "outputs": [
        {
          "output_type": "execute_result",
          "data": {
            "text/plain": [
              "         Date Store ID Product ID     Category Region  Inventory Level  \\\n",
              "0  2022-01-01     S001      P0001    Groceries  North              231   \n",
              "1  2022-01-01     S001      P0002         Toys  South              204   \n",
              "2  2022-01-01     S001      P0003         Toys   West              102   \n",
              "3  2022-01-01     S001      P0004         Toys  North              469   \n",
              "4  2022-01-01     S001      P0005  Electronics   East              166   \n",
              "\n",
              "   Units Sold  Units Ordered  Demand Forecast  Price  Discount  \\\n",
              "0         127             55           135.47  33.50        20   \n",
              "1         150             66           144.04  63.01        20   \n",
              "2          65             51            74.02  27.99        10   \n",
              "3          61            164            62.18  32.72        10   \n",
              "4          14            135             9.26  73.64         0   \n",
              "\n",
              "  Weather Condition  Holiday/Promotion  Competitor Pricing Seasonality  \n",
              "0             Rainy                  0               29.69      Autumn  \n",
              "1             Sunny                  0               66.16      Autumn  \n",
              "2             Sunny                  1               31.32      Summer  \n",
              "3            Cloudy                  1               34.74      Autumn  \n",
              "4             Sunny                  0               68.95      Summer  "
            ],
            "text/html": [
              "\n",
              "  <div id=\"df-57baf42f-110c-4486-8823-1895d6157779\" class=\"colab-df-container\">\n",
              "    <div>\n",
              "<style scoped>\n",
              "    .dataframe tbody tr th:only-of-type {\n",
              "        vertical-align: middle;\n",
              "    }\n",
              "\n",
              "    .dataframe tbody tr th {\n",
              "        vertical-align: top;\n",
              "    }\n",
              "\n",
              "    .dataframe thead th {\n",
              "        text-align: right;\n",
              "    }\n",
              "</style>\n",
              "<table border=\"1\" class=\"dataframe\">\n",
              "  <thead>\n",
              "    <tr style=\"text-align: right;\">\n",
              "      <th></th>\n",
              "      <th>Date</th>\n",
              "      <th>Store ID</th>\n",
              "      <th>Product ID</th>\n",
              "      <th>Category</th>\n",
              "      <th>Region</th>\n",
              "      <th>Inventory Level</th>\n",
              "      <th>Units Sold</th>\n",
              "      <th>Units Ordered</th>\n",
              "      <th>Demand Forecast</th>\n",
              "      <th>Price</th>\n",
              "      <th>Discount</th>\n",
              "      <th>Weather Condition</th>\n",
              "      <th>Holiday/Promotion</th>\n",
              "      <th>Competitor Pricing</th>\n",
              "      <th>Seasonality</th>\n",
              "    </tr>\n",
              "  </thead>\n",
              "  <tbody>\n",
              "    <tr>\n",
              "      <th>0</th>\n",
              "      <td>2022-01-01</td>\n",
              "      <td>S001</td>\n",
              "      <td>P0001</td>\n",
              "      <td>Groceries</td>\n",
              "      <td>North</td>\n",
              "      <td>231</td>\n",
              "      <td>127</td>\n",
              "      <td>55</td>\n",
              "      <td>135.47</td>\n",
              "      <td>33.50</td>\n",
              "      <td>20</td>\n",
              "      <td>Rainy</td>\n",
              "      <td>0</td>\n",
              "      <td>29.69</td>\n",
              "      <td>Autumn</td>\n",
              "    </tr>\n",
              "    <tr>\n",
              "      <th>1</th>\n",
              "      <td>2022-01-01</td>\n",
              "      <td>S001</td>\n",
              "      <td>P0002</td>\n",
              "      <td>Toys</td>\n",
              "      <td>South</td>\n",
              "      <td>204</td>\n",
              "      <td>150</td>\n",
              "      <td>66</td>\n",
              "      <td>144.04</td>\n",
              "      <td>63.01</td>\n",
              "      <td>20</td>\n",
              "      <td>Sunny</td>\n",
              "      <td>0</td>\n",
              "      <td>66.16</td>\n",
              "      <td>Autumn</td>\n",
              "    </tr>\n",
              "    <tr>\n",
              "      <th>2</th>\n",
              "      <td>2022-01-01</td>\n",
              "      <td>S001</td>\n",
              "      <td>P0003</td>\n",
              "      <td>Toys</td>\n",
              "      <td>West</td>\n",
              "      <td>102</td>\n",
              "      <td>65</td>\n",
              "      <td>51</td>\n",
              "      <td>74.02</td>\n",
              "      <td>27.99</td>\n",
              "      <td>10</td>\n",
              "      <td>Sunny</td>\n",
              "      <td>1</td>\n",
              "      <td>31.32</td>\n",
              "      <td>Summer</td>\n",
              "    </tr>\n",
              "    <tr>\n",
              "      <th>3</th>\n",
              "      <td>2022-01-01</td>\n",
              "      <td>S001</td>\n",
              "      <td>P0004</td>\n",
              "      <td>Toys</td>\n",
              "      <td>North</td>\n",
              "      <td>469</td>\n",
              "      <td>61</td>\n",
              "      <td>164</td>\n",
              "      <td>62.18</td>\n",
              "      <td>32.72</td>\n",
              "      <td>10</td>\n",
              "      <td>Cloudy</td>\n",
              "      <td>1</td>\n",
              "      <td>34.74</td>\n",
              "      <td>Autumn</td>\n",
              "    </tr>\n",
              "    <tr>\n",
              "      <th>4</th>\n",
              "      <td>2022-01-01</td>\n",
              "      <td>S001</td>\n",
              "      <td>P0005</td>\n",
              "      <td>Electronics</td>\n",
              "      <td>East</td>\n",
              "      <td>166</td>\n",
              "      <td>14</td>\n",
              "      <td>135</td>\n",
              "      <td>9.26</td>\n",
              "      <td>73.64</td>\n",
              "      <td>0</td>\n",
              "      <td>Sunny</td>\n",
              "      <td>0</td>\n",
              "      <td>68.95</td>\n",
              "      <td>Summer</td>\n",
              "    </tr>\n",
              "  </tbody>\n",
              "</table>\n",
              "</div>\n",
              "    <div class=\"colab-df-buttons\">\n",
              "\n",
              "  <div class=\"colab-df-container\">\n",
              "    <button class=\"colab-df-convert\" onclick=\"convertToInteractive('df-57baf42f-110c-4486-8823-1895d6157779')\"\n",
              "            title=\"Convert this dataframe to an interactive table.\"\n",
              "            style=\"display:none;\">\n",
              "\n",
              "  <svg xmlns=\"http://www.w3.org/2000/svg\" height=\"24px\" viewBox=\"0 -960 960 960\">\n",
              "    <path d=\"M120-120v-720h720v720H120Zm60-500h600v-160H180v160Zm220 220h160v-160H400v160Zm0 220h160v-160H400v160ZM180-400h160v-160H180v160Zm440 0h160v-160H620v160ZM180-180h160v-160H180v160Zm440 0h160v-160H620v160Z\"/>\n",
              "  </svg>\n",
              "    </button>\n",
              "\n",
              "  <style>\n",
              "    .colab-df-container {\n",
              "      display:flex;\n",
              "      gap: 12px;\n",
              "    }\n",
              "\n",
              "    .colab-df-convert {\n",
              "      background-color: #E8F0FE;\n",
              "      border: none;\n",
              "      border-radius: 50%;\n",
              "      cursor: pointer;\n",
              "      display: none;\n",
              "      fill: #1967D2;\n",
              "      height: 32px;\n",
              "      padding: 0 0 0 0;\n",
              "      width: 32px;\n",
              "    }\n",
              "\n",
              "    .colab-df-convert:hover {\n",
              "      background-color: #E2EBFA;\n",
              "      box-shadow: 0px 1px 2px rgba(60, 64, 67, 0.3), 0px 1px 3px 1px rgba(60, 64, 67, 0.15);\n",
              "      fill: #174EA6;\n",
              "    }\n",
              "\n",
              "    .colab-df-buttons div {\n",
              "      margin-bottom: 4px;\n",
              "    }\n",
              "\n",
              "    [theme=dark] .colab-df-convert {\n",
              "      background-color: #3B4455;\n",
              "      fill: #D2E3FC;\n",
              "    }\n",
              "\n",
              "    [theme=dark] .colab-df-convert:hover {\n",
              "      background-color: #434B5C;\n",
              "      box-shadow: 0px 1px 3px 1px rgba(0, 0, 0, 0.15);\n",
              "      filter: drop-shadow(0px 1px 2px rgba(0, 0, 0, 0.3));\n",
              "      fill: #FFFFFF;\n",
              "    }\n",
              "  </style>\n",
              "\n",
              "    <script>\n",
              "      const buttonEl =\n",
              "        document.querySelector('#df-57baf42f-110c-4486-8823-1895d6157779 button.colab-df-convert');\n",
              "      buttonEl.style.display =\n",
              "        google.colab.kernel.accessAllowed ? 'block' : 'none';\n",
              "\n",
              "      async function convertToInteractive(key) {\n",
              "        const element = document.querySelector('#df-57baf42f-110c-4486-8823-1895d6157779');\n",
              "        const dataTable =\n",
              "          await google.colab.kernel.invokeFunction('convertToInteractive',\n",
              "                                                    [key], {});\n",
              "        if (!dataTable) return;\n",
              "\n",
              "        const docLinkHtml = 'Like what you see? Visit the ' +\n",
              "          '<a target=\"_blank\" href=https://colab.research.google.com/notebooks/data_table.ipynb>data table notebook</a>'\n",
              "          + ' to learn more about interactive tables.';\n",
              "        element.innerHTML = '';\n",
              "        dataTable['output_type'] = 'display_data';\n",
              "        await google.colab.output.renderOutput(dataTable, element);\n",
              "        const docLink = document.createElement('div');\n",
              "        docLink.innerHTML = docLinkHtml;\n",
              "        element.appendChild(docLink);\n",
              "      }\n",
              "    </script>\n",
              "  </div>\n",
              "\n",
              "\n",
              "    <div id=\"df-cc629fe7-00c1-4b39-9a55-02d38544f3e2\">\n",
              "      <button class=\"colab-df-quickchart\" onclick=\"quickchart('df-cc629fe7-00c1-4b39-9a55-02d38544f3e2')\"\n",
              "                title=\"Suggest charts\"\n",
              "                style=\"display:none;\">\n",
              "\n",
              "<svg xmlns=\"http://www.w3.org/2000/svg\" height=\"24px\"viewBox=\"0 0 24 24\"\n",
              "     width=\"24px\">\n",
              "    <g>\n",
              "        <path d=\"M19 3H5c-1.1 0-2 .9-2 2v14c0 1.1.9 2 2 2h14c1.1 0 2-.9 2-2V5c0-1.1-.9-2-2-2zM9 17H7v-7h2v7zm4 0h-2V7h2v10zm4 0h-2v-4h2v4z\"/>\n",
              "    </g>\n",
              "</svg>\n",
              "      </button>\n",
              "\n",
              "<style>\n",
              "  .colab-df-quickchart {\n",
              "      --bg-color: #E8F0FE;\n",
              "      --fill-color: #1967D2;\n",
              "      --hover-bg-color: #E2EBFA;\n",
              "      --hover-fill-color: #174EA6;\n",
              "      --disabled-fill-color: #AAA;\n",
              "      --disabled-bg-color: #DDD;\n",
              "  }\n",
              "\n",
              "  [theme=dark] .colab-df-quickchart {\n",
              "      --bg-color: #3B4455;\n",
              "      --fill-color: #D2E3FC;\n",
              "      --hover-bg-color: #434B5C;\n",
              "      --hover-fill-color: #FFFFFF;\n",
              "      --disabled-bg-color: #3B4455;\n",
              "      --disabled-fill-color: #666;\n",
              "  }\n",
              "\n",
              "  .colab-df-quickchart {\n",
              "    background-color: var(--bg-color);\n",
              "    border: none;\n",
              "    border-radius: 50%;\n",
              "    cursor: pointer;\n",
              "    display: none;\n",
              "    fill: var(--fill-color);\n",
              "    height: 32px;\n",
              "    padding: 0;\n",
              "    width: 32px;\n",
              "  }\n",
              "\n",
              "  .colab-df-quickchart:hover {\n",
              "    background-color: var(--hover-bg-color);\n",
              "    box-shadow: 0 1px 2px rgba(60, 64, 67, 0.3), 0 1px 3px 1px rgba(60, 64, 67, 0.15);\n",
              "    fill: var(--button-hover-fill-color);\n",
              "  }\n",
              "\n",
              "  .colab-df-quickchart-complete:disabled,\n",
              "  .colab-df-quickchart-complete:disabled:hover {\n",
              "    background-color: var(--disabled-bg-color);\n",
              "    fill: var(--disabled-fill-color);\n",
              "    box-shadow: none;\n",
              "  }\n",
              "\n",
              "  .colab-df-spinner {\n",
              "    border: 2px solid var(--fill-color);\n",
              "    border-color: transparent;\n",
              "    border-bottom-color: var(--fill-color);\n",
              "    animation:\n",
              "      spin 1s steps(1) infinite;\n",
              "  }\n",
              "\n",
              "  @keyframes spin {\n",
              "    0% {\n",
              "      border-color: transparent;\n",
              "      border-bottom-color: var(--fill-color);\n",
              "      border-left-color: var(--fill-color);\n",
              "    }\n",
              "    20% {\n",
              "      border-color: transparent;\n",
              "      border-left-color: var(--fill-color);\n",
              "      border-top-color: var(--fill-color);\n",
              "    }\n",
              "    30% {\n",
              "      border-color: transparent;\n",
              "      border-left-color: var(--fill-color);\n",
              "      border-top-color: var(--fill-color);\n",
              "      border-right-color: var(--fill-color);\n",
              "    }\n",
              "    40% {\n",
              "      border-color: transparent;\n",
              "      border-right-color: var(--fill-color);\n",
              "      border-top-color: var(--fill-color);\n",
              "    }\n",
              "    60% {\n",
              "      border-color: transparent;\n",
              "      border-right-color: var(--fill-color);\n",
              "    }\n",
              "    80% {\n",
              "      border-color: transparent;\n",
              "      border-right-color: var(--fill-color);\n",
              "      border-bottom-color: var(--fill-color);\n",
              "    }\n",
              "    90% {\n",
              "      border-color: transparent;\n",
              "      border-bottom-color: var(--fill-color);\n",
              "    }\n",
              "  }\n",
              "</style>\n",
              "\n",
              "      <script>\n",
              "        async function quickchart(key) {\n",
              "          const quickchartButtonEl =\n",
              "            document.querySelector('#' + key + ' button');\n",
              "          quickchartButtonEl.disabled = true;  // To prevent multiple clicks.\n",
              "          quickchartButtonEl.classList.add('colab-df-spinner');\n",
              "          try {\n",
              "            const charts = await google.colab.kernel.invokeFunction(\n",
              "                'suggestCharts', [key], {});\n",
              "          } catch (error) {\n",
              "            console.error('Error during call to suggestCharts:', error);\n",
              "          }\n",
              "          quickchartButtonEl.classList.remove('colab-df-spinner');\n",
              "          quickchartButtonEl.classList.add('colab-df-quickchart-complete');\n",
              "        }\n",
              "        (() => {\n",
              "          let quickchartButtonEl =\n",
              "            document.querySelector('#df-cc629fe7-00c1-4b39-9a55-02d38544f3e2 button');\n",
              "          quickchartButtonEl.style.display =\n",
              "            google.colab.kernel.accessAllowed ? 'block' : 'none';\n",
              "        })();\n",
              "      </script>\n",
              "    </div>\n",
              "\n",
              "    </div>\n",
              "  </div>\n"
            ],
            "application/vnd.google.colaboratory.intrinsic+json": {
              "type": "dataframe",
              "variable_name": "df",
              "summary": "{\n  \"name\": \"df\",\n  \"rows\": 73100,\n  \"fields\": [\n    {\n      \"column\": \"Date\",\n      \"properties\": {\n        \"dtype\": \"object\",\n        \"num_unique_values\": 731,\n        \"samples\": [\n          \"2023-12-05\",\n          \"2022-02-03\",\n          \"2022-10-28\"\n        ],\n        \"semantic_type\": \"\",\n        \"description\": \"\"\n      }\n    },\n    {\n      \"column\": \"Store ID\",\n      \"properties\": {\n        \"dtype\": \"category\",\n        \"num_unique_values\": 5,\n        \"samples\": [\n          \"S002\",\n          \"S005\",\n          \"S003\"\n        ],\n        \"semantic_type\": \"\",\n        \"description\": \"\"\n      }\n    },\n    {\n      \"column\": \"Product ID\",\n      \"properties\": {\n        \"dtype\": \"category\",\n        \"num_unique_values\": 20,\n        \"samples\": [\n          \"P0001\",\n          \"P0018\",\n          \"P0016\"\n        ],\n        \"semantic_type\": \"\",\n        \"description\": \"\"\n      }\n    },\n    {\n      \"column\": \"Category\",\n      \"properties\": {\n        \"dtype\": \"category\",\n        \"num_unique_values\": 5,\n        \"samples\": [\n          \"Toys\",\n          \"Clothing\",\n          \"Electronics\"\n        ],\n        \"semantic_type\": \"\",\n        \"description\": \"\"\n      }\n    },\n    {\n      \"column\": \"Region\",\n      \"properties\": {\n        \"dtype\": \"category\",\n        \"num_unique_values\": 4,\n        \"samples\": [\n          \"South\",\n          \"East\",\n          \"North\"\n        ],\n        \"semantic_type\": \"\",\n        \"description\": \"\"\n      }\n    },\n    {\n      \"column\": \"Inventory Level\",\n      \"properties\": {\n        \"dtype\": \"number\",\n        \"std\": 129,\n        \"min\": 50,\n        \"max\": 500,\n        \"num_unique_values\": 451,\n        \"samples\": [\n          98,\n          375,\n          212\n        ],\n        \"semantic_type\": \"\",\n        \"description\": \"\"\n      }\n    },\n    {\n      \"column\": \"Units Sold\",\n      \"properties\": {\n        \"dtype\": \"number\",\n        \"std\": 108,\n        \"min\": 0,\n        \"max\": 499,\n        \"num_unique_values\": 498,\n        \"samples\": [\n          486,\n          176,\n          92\n        ],\n        \"semantic_type\": \"\",\n        \"description\": \"\"\n      }\n    },\n    {\n      \"column\": \"Units Ordered\",\n      \"properties\": {\n        \"dtype\": \"number\",\n        \"std\": 52,\n        \"min\": 20,\n        \"max\": 200,\n        \"num_unique_values\": 181,\n        \"samples\": [\n          144,\n          124,\n          87\n        ],\n        \"semantic_type\": \"\",\n        \"description\": \"\"\n      }\n    },\n    {\n      \"column\": \"Demand Forecast\",\n      \"properties\": {\n        \"dtype\": \"number\",\n        \"std\": 109.25407647039115,\n        \"min\": -9.99,\n        \"max\": 518.55,\n        \"num_unique_values\": 31608,\n        \"samples\": [\n          276.33,\n          31.84,\n          141.35\n        ],\n        \"semantic_type\": \"\",\n        \"description\": \"\"\n      }\n    },\n    {\n      \"column\": \"Price\",\n      \"properties\": {\n        \"dtype\": \"number\",\n        \"std\": 26.021944625625636,\n        \"min\": 10.0,\n        \"max\": 100.0,\n        \"num_unique_values\": 8999,\n        \"samples\": [\n          61.69,\n          54.33,\n          33.89\n        ],\n        \"semantic_type\": \"\",\n        \"description\": \"\"\n      }\n    },\n    {\n      \"column\": \"Discount\",\n      \"properties\": {\n        \"dtype\": \"number\",\n        \"std\": 7,\n        \"min\": 0,\n        \"max\": 20,\n        \"num_unique_values\": 5,\n        \"samples\": [\n          10,\n          15,\n          0\n        ],\n        \"semantic_type\": \"\",\n        \"description\": \"\"\n      }\n    },\n    {\n      \"column\": \"Weather Condition\",\n      \"properties\": {\n        \"dtype\": \"category\",\n        \"num_unique_values\": 4,\n        \"samples\": [\n          \"Sunny\",\n          \"Snowy\",\n          \"Rainy\"\n        ],\n        \"semantic_type\": \"\",\n        \"description\": \"\"\n      }\n    },\n    {\n      \"column\": \"Holiday/Promotion\",\n      \"properties\": {\n        \"dtype\": \"number\",\n        \"std\": 0,\n        \"min\": 0,\n        \"max\": 1,\n        \"num_unique_values\": 2,\n        \"samples\": [\n          1,\n          0\n        ],\n        \"semantic_type\": \"\",\n        \"description\": \"\"\n      }\n    },\n    {\n      \"column\": \"Competitor Pricing\",\n      \"properties\": {\n        \"dtype\": \"number\",\n        \"std\": 26.19140786909631,\n        \"min\": 5.03,\n        \"max\": 104.94,\n        \"num_unique_values\": 9751,\n        \"samples\": [\n          96.16,\n          22.17\n        ],\n        \"semantic_type\": \"\",\n        \"description\": \"\"\n      }\n    },\n    {\n      \"column\": \"Seasonality\",\n      \"properties\": {\n        \"dtype\": \"category\",\n        \"num_unique_values\": 4,\n        \"samples\": [\n          \"Summer\",\n          \"Spring\"\n        ],\n        \"semantic_type\": \"\",\n        \"description\": \"\"\n      }\n    }\n  ]\n}"
            }
          },
          "metadata": {},
          "execution_count": 5
        }
      ]
    },
    {
      "cell_type": "code",
      "source": [
        "print(df['Product ID'].unique())\n",
        "print(df['Store ID'].unique())"
      ],
      "metadata": {
        "colab": {
          "base_uri": "https://localhost:8080/"
        },
        "id": "CtoRiG220Wv0",
        "outputId": "714113aa-66f0-401e-80df-18fc1bc7aceb"
      },
      "execution_count": 6,
      "outputs": [
        {
          "output_type": "stream",
          "name": "stdout",
          "text": [
            "['P0001' 'P0002' 'P0003' 'P0004' 'P0005' 'P0006' 'P0007' 'P0008' 'P0009'\n",
            " 'P0010' 'P0011' 'P0012' 'P0013' 'P0014' 'P0015' 'P0016' 'P0017' 'P0018'\n",
            " 'P0019' 'P0020']\n",
            "['S001' 'S002' 'S003' 'S004' 'S005']\n"
          ]
        }
      ]
    },
    {
      "cell_type": "code",
      "source": [
        "#store id isnt needed for the demand forecasting application\n",
        "df.drop(columns=['Store ID','Date'],inplace=True,errors='ignore')\n",
        "print(df.info())"
      ],
      "metadata": {
        "colab": {
          "base_uri": "https://localhost:8080/"
        },
        "id": "DEG2totc0CTl",
        "outputId": "ab3ea4dc-1be1-493b-e777-3146b8917fa0"
      },
      "execution_count": 7,
      "outputs": [
        {
          "output_type": "stream",
          "name": "stdout",
          "text": [
            "<class 'pandas.core.frame.DataFrame'>\n",
            "RangeIndex: 73100 entries, 0 to 73099\n",
            "Data columns (total 13 columns):\n",
            " #   Column              Non-Null Count  Dtype  \n",
            "---  ------              --------------  -----  \n",
            " 0   Product ID          73100 non-null  object \n",
            " 1   Category            73100 non-null  object \n",
            " 2   Region              73100 non-null  object \n",
            " 3   Inventory Level     73100 non-null  int64  \n",
            " 4   Units Sold          73100 non-null  int64  \n",
            " 5   Units Ordered       73100 non-null  int64  \n",
            " 6   Demand Forecast     73100 non-null  float64\n",
            " 7   Price               73100 non-null  float64\n",
            " 8   Discount            73100 non-null  int64  \n",
            " 9   Weather Condition   73100 non-null  object \n",
            " 10  Holiday/Promotion   73100 non-null  int64  \n",
            " 11  Competitor Pricing  73100 non-null  float64\n",
            " 12  Seasonality         73100 non-null  object \n",
            "dtypes: float64(3), int64(5), object(5)\n",
            "memory usage: 7.3+ MB\n",
            "None\n"
          ]
        }
      ]
    },
    {
      "cell_type": "markdown",
      "source": [
        "Encoding categorical variables"
      ],
      "metadata": {
        "id": "wGNuy1uQzknW"
      }
    },
    {
      "cell_type": "code",
      "source": [
        "#identify the categorical variables\n",
        "for cols in df.columns:\n",
        "  if df[cols].nunique()<10:\n",
        "      print(cols,df[cols].unique())\n",
        "print('Product ID',df['Product ID'].unique())"
      ],
      "metadata": {
        "colab": {
          "base_uri": "https://localhost:8080/"
        },
        "id": "VnO-6KkKSYzA",
        "outputId": "776f300a-5443-4e43-ba67-2f34a38718be"
      },
      "execution_count": 8,
      "outputs": [
        {
          "output_type": "stream",
          "name": "stdout",
          "text": [
            "Category ['Groceries' 'Toys' 'Electronics' 'Furniture' 'Clothing']\n",
            "Region ['North' 'South' 'West' 'East']\n",
            "Discount [20 10  0  5 15]\n",
            "Weather Condition ['Rainy' 'Sunny' 'Cloudy' 'Snowy']\n",
            "Holiday/Promotion [0 1]\n",
            "Seasonality ['Autumn' 'Summer' 'Winter' 'Spring']\n",
            "Product ID ['P0001' 'P0002' 'P0003' 'P0004' 'P0005' 'P0006' 'P0007' 'P0008' 'P0009'\n",
            " 'P0010' 'P0011' 'P0012' 'P0013' 'P0014' 'P0015' 'P0016' 'P0017' 'P0018'\n",
            " 'P0019' 'P0020']\n"
          ]
        }
      ]
    },
    {
      "cell_type": "code",
      "source": [
        "from sklearn.preprocessing import LabelEncoder\n",
        "\n",
        "df_encoded=df.copy()\n",
        "\n",
        "#applying one-hot encoding to nominal categories\n",
        "one_hot_cols=[]\n",
        "for cols in df.columns:\n",
        "  if df[cols].nunique()<=20 and df[cols].nunique()>2:\n",
        "      one_hot_cols.append(cols)\n",
        "print(one_hot_cols)\n",
        "\n",
        "df_encoded=pd.get_dummies(df_encoded,columns=one_hot_cols)\n",
        "print(df_encoded.head())"
      ],
      "metadata": {
        "colab": {
          "base_uri": "https://localhost:8080/"
        },
        "id": "_h0mM_xnTC-T",
        "outputId": "cb2e73cc-be88-4851-da8f-0381931a3cb5"
      },
      "execution_count": 9,
      "outputs": [
        {
          "output_type": "stream",
          "name": "stdout",
          "text": [
            "['Product ID', 'Category', 'Region', 'Discount', 'Weather Condition', 'Seasonality']\n",
            "   Inventory Level  Units Sold  Units Ordered  Demand Forecast  Price  \\\n",
            "0              231         127             55           135.47  33.50   \n",
            "1              204         150             66           144.04  63.01   \n",
            "2              102          65             51            74.02  27.99   \n",
            "3              469          61            164            62.18  32.72   \n",
            "4              166          14            135             9.26  73.64   \n",
            "\n",
            "   Holiday/Promotion  Competitor Pricing  Product ID_P0001  Product ID_P0002  \\\n",
            "0                  0               29.69              True             False   \n",
            "1                  0               66.16             False              True   \n",
            "2                  1               31.32             False             False   \n",
            "3                  1               34.74             False             False   \n",
            "4                  0               68.95             False             False   \n",
            "\n",
            "   Product ID_P0003  ...  Discount_15  Discount_20  Weather Condition_Cloudy  \\\n",
            "0             False  ...        False         True                     False   \n",
            "1             False  ...        False         True                     False   \n",
            "2              True  ...        False        False                     False   \n",
            "3             False  ...        False        False                      True   \n",
            "4             False  ...        False        False                     False   \n",
            "\n",
            "   Weather Condition_Rainy  Weather Condition_Snowy  Weather Condition_Sunny  \\\n",
            "0                     True                    False                    False   \n",
            "1                    False                    False                     True   \n",
            "2                    False                    False                     True   \n",
            "3                    False                    False                    False   \n",
            "4                    False                    False                     True   \n",
            "\n",
            "   Seasonality_Autumn  Seasonality_Spring  Seasonality_Summer  \\\n",
            "0                True               False               False   \n",
            "1                True               False               False   \n",
            "2               False               False                True   \n",
            "3                True               False               False   \n",
            "4               False               False                True   \n",
            "\n",
            "   Seasonality_Winter  \n",
            "0               False  \n",
            "1               False  \n",
            "2               False  \n",
            "3               False  \n",
            "4               False  \n",
            "\n",
            "[5 rows x 49 columns]\n"
          ]
        }
      ]
    },
    {
      "cell_type": "markdown",
      "source": [
        "Scaling"
      ],
      "metadata": {
        "id": "woqsgVkqYskV"
      }
    },
    {
      "cell_type": "code",
      "source": [
        "numeric_cols = df_encoded.select_dtypes(include=['int64', 'float64']).columns.tolist()\n",
        "print(numeric_cols)"
      ],
      "metadata": {
        "colab": {
          "base_uri": "https://localhost:8080/"
        },
        "id": "i4iYWe31YuPa",
        "outputId": "b7b6a9b2-b8da-4282-9311-d346cb47f1a6"
      },
      "execution_count": 10,
      "outputs": [
        {
          "output_type": "stream",
          "name": "stdout",
          "text": [
            "['Inventory Level', 'Units Sold', 'Units Ordered', 'Demand Forecast', 'Price', 'Holiday/Promotion', 'Competitor Pricing']\n"
          ]
        }
      ]
    },
    {
      "cell_type": "code",
      "source": [
        "from sklearn.preprocessing import MinMaxScaler\n",
        "# Select only numeric columns for scaling\n",
        "numeric_cols = ['Inventory Level', 'Units Sold', 'Units Ordered', 'Price', 'Competitor Pricing']\n",
        "scaler = MinMaxScaler()\n",
        "df_encoded[numeric_cols] = scaler.fit_transform(df_encoded[numeric_cols])"
      ],
      "metadata": {
        "id": "I5MyzD0TYxN7"
      },
      "execution_count": 11,
      "outputs": []
    },
    {
      "cell_type": "markdown",
      "source": [
        "# NN Model creation and training"
      ],
      "metadata": {
        "id": "Tnbjv7JU5Bbe"
      }
    },
    {
      "cell_type": "markdown",
      "source": [
        "Dataset split"
      ],
      "metadata": {
        "id": "XD8z2-hK5IUP"
      }
    },
    {
      "cell_type": "code",
      "source": [
        "from sklearn.model_selection import train_test_split\n",
        "\n",
        "x_train,x_temp,y_train,y_temp=train_test_split(df_encoded.drop(columns=['Demand Forecast']),df_encoded['Demand Forecast'],test_size=0.2,random_state=42)\n",
        "x_val,x_test,y_val,y_test=train_test_split(x_temp,y_temp,test_size=0.5,random_state=42)\n",
        "\n",
        "print(x_train.shape,x_val.shape,x_test.shape)"
      ],
      "metadata": {
        "colab": {
          "base_uri": "https://localhost:8080/"
        },
        "id": "fPxBVujk5LEm",
        "outputId": "0ac194aa-644a-4fda-f6be-044dc76a3a75"
      },
      "execution_count": 12,
      "outputs": [
        {
          "output_type": "stream",
          "name": "stdout",
          "text": [
            "(58480, 48) (7310, 48) (7310, 48)\n"
          ]
        }
      ]
    },
    {
      "cell_type": "markdown",
      "source": [
        "Model definition"
      ],
      "metadata": {
        "id": "Yas2kF9l6BG2"
      }
    },
    {
      "cell_type": "code",
      "source": [
        "print(x_train.columns)"
      ],
      "metadata": {
        "colab": {
          "base_uri": "https://localhost:8080/"
        },
        "id": "mFT-leHmMUTf",
        "outputId": "849c6d87-aab2-479b-96cb-13fd4ecb55af"
      },
      "execution_count": 13,
      "outputs": [
        {
          "output_type": "stream",
          "name": "stdout",
          "text": [
            "Index(['Inventory Level', 'Units Sold', 'Units Ordered', 'Price',\n",
            "       'Holiday/Promotion', 'Competitor Pricing', 'Product ID_P0001',\n",
            "       'Product ID_P0002', 'Product ID_P0003', 'Product ID_P0004',\n",
            "       'Product ID_P0005', 'Product ID_P0006', 'Product ID_P0007',\n",
            "       'Product ID_P0008', 'Product ID_P0009', 'Product ID_P0010',\n",
            "       'Product ID_P0011', 'Product ID_P0012', 'Product ID_P0013',\n",
            "       'Product ID_P0014', 'Product ID_P0015', 'Product ID_P0016',\n",
            "       'Product ID_P0017', 'Product ID_P0018', 'Product ID_P0019',\n",
            "       'Product ID_P0020', 'Category_Clothing', 'Category_Electronics',\n",
            "       'Category_Furniture', 'Category_Groceries', 'Category_Toys',\n",
            "       'Region_East', 'Region_North', 'Region_South', 'Region_West',\n",
            "       'Discount_0', 'Discount_5', 'Discount_10', 'Discount_15', 'Discount_20',\n",
            "       'Weather Condition_Cloudy', 'Weather Condition_Rainy',\n",
            "       'Weather Condition_Snowy', 'Weather Condition_Sunny',\n",
            "       'Seasonality_Autumn', 'Seasonality_Spring', 'Seasonality_Summer',\n",
            "       'Seasonality_Winter'],\n",
            "      dtype='object')\n"
          ]
        }
      ]
    },
    {
      "cell_type": "code",
      "source": [
        "import tensorflow as tf\n",
        "from tensorflow.keras.models import Sequential\n",
        "from tensorflow.keras.layers import Dense\n",
        "from tensorflow.keras.optimizers import Adam\n",
        "from tensorflow.keras.callbacks import EarlyStopping\n",
        "\n",
        "model=Sequential([\n",
        "    Dense(128,activation='relu',input_dim=x_train.shape[1]),\n",
        "    Dense(64,activation='relu'),\n",
        "    Dense(32,activation='relu'),\n",
        "    Dense(1)\n",
        "])\n",
        "\n",
        "print(model.summary())\n",
        "early_stopping = EarlyStopping(monitor='val_loss', patience=5,restore_best_weights=True)\n",
        "\n",
        "# Create model with a different learning rate\n",
        "model.compile(optimizer=Adam(learning_rate=0.0005),loss='mse',metrics=['mae']) #mean absolute error as metric\n",
        "\n",
        "#train the model\n",
        "history=model.fit(x_train,y_train,validation_data=(x_val,y_val),epochs=50,batch_size=32,verbose=1)#alidation data used after each epoch to evaluate performance and help tune the model.\n",
        "\n"
      ],
      "metadata": {
        "colab": {
          "base_uri": "https://localhost:8080/",
          "height": 1000
        },
        "id": "mfTC69_F5oaB",
        "outputId": "a9cbb6ef-358a-49fa-854a-ebb4c1d011c9"
      },
      "execution_count": 14,
      "outputs": [
        {
          "output_type": "stream",
          "name": "stderr",
          "text": [
            "/usr/local/lib/python3.11/dist-packages/keras/src/layers/core/dense.py:87: UserWarning: Do not pass an `input_shape`/`input_dim` argument to a layer. When using Sequential models, prefer using an `Input(shape)` object as the first layer in the model instead.\n",
            "  super().__init__(activity_regularizer=activity_regularizer, **kwargs)\n"
          ]
        },
        {
          "output_type": "display_data",
          "data": {
            "text/plain": [
              "\u001b[1mModel: \"sequential\"\u001b[0m\n"
            ],
            "text/html": [
              "<pre style=\"white-space:pre;overflow-x:auto;line-height:normal;font-family:Menlo,'DejaVu Sans Mono',consolas,'Courier New',monospace\"><span style=\"font-weight: bold\">Model: \"sequential\"</span>\n",
              "</pre>\n"
            ]
          },
          "metadata": {}
        },
        {
          "output_type": "display_data",
          "data": {
            "text/plain": [
              "┏━━━━━━━━━━━━━━━━━━━━━━━━━━━━━━━━━┳━━━━━━━━━━━━━━━━━━━━━━━━┳━━━━━━━━━━━━━━━┓\n",
              "┃\u001b[1m \u001b[0m\u001b[1mLayer (type)                   \u001b[0m\u001b[1m \u001b[0m┃\u001b[1m \u001b[0m\u001b[1mOutput Shape          \u001b[0m\u001b[1m \u001b[0m┃\u001b[1m \u001b[0m\u001b[1m      Param #\u001b[0m\u001b[1m \u001b[0m┃\n",
              "┡━━━━━━━━━━━━━━━━━━━━━━━━━━━━━━━━━╇━━━━━━━━━━━━━━━━━━━━━━━━╇━━━━━━━━━━━━━━━┩\n",
              "│ dense (\u001b[38;5;33mDense\u001b[0m)                   │ (\u001b[38;5;45mNone\u001b[0m, \u001b[38;5;34m128\u001b[0m)            │         \u001b[38;5;34m6,272\u001b[0m │\n",
              "├─────────────────────────────────┼────────────────────────┼───────────────┤\n",
              "│ dense_1 (\u001b[38;5;33mDense\u001b[0m)                 │ (\u001b[38;5;45mNone\u001b[0m, \u001b[38;5;34m64\u001b[0m)             │         \u001b[38;5;34m8,256\u001b[0m │\n",
              "├─────────────────────────────────┼────────────────────────┼───────────────┤\n",
              "│ dense_2 (\u001b[38;5;33mDense\u001b[0m)                 │ (\u001b[38;5;45mNone\u001b[0m, \u001b[38;5;34m32\u001b[0m)             │         \u001b[38;5;34m2,080\u001b[0m │\n",
              "├─────────────────────────────────┼────────────────────────┼───────────────┤\n",
              "│ dense_3 (\u001b[38;5;33mDense\u001b[0m)                 │ (\u001b[38;5;45mNone\u001b[0m, \u001b[38;5;34m1\u001b[0m)              │            \u001b[38;5;34m33\u001b[0m │\n",
              "└─────────────────────────────────┴────────────────────────┴───────────────┘\n"
            ],
            "text/html": [
              "<pre style=\"white-space:pre;overflow-x:auto;line-height:normal;font-family:Menlo,'DejaVu Sans Mono',consolas,'Courier New',monospace\">┏━━━━━━━━━━━━━━━━━━━━━━━━━━━━━━━━━┳━━━━━━━━━━━━━━━━━━━━━━━━┳━━━━━━━━━━━━━━━┓\n",
              "┃<span style=\"font-weight: bold\"> Layer (type)                    </span>┃<span style=\"font-weight: bold\"> Output Shape           </span>┃<span style=\"font-weight: bold\">       Param # </span>┃\n",
              "┡━━━━━━━━━━━━━━━━━━━━━━━━━━━━━━━━━╇━━━━━━━━━━━━━━━━━━━━━━━━╇━━━━━━━━━━━━━━━┩\n",
              "│ dense (<span style=\"color: #0087ff; text-decoration-color: #0087ff\">Dense</span>)                   │ (<span style=\"color: #00d7ff; text-decoration-color: #00d7ff\">None</span>, <span style=\"color: #00af00; text-decoration-color: #00af00\">128</span>)            │         <span style=\"color: #00af00; text-decoration-color: #00af00\">6,272</span> │\n",
              "├─────────────────────────────────┼────────────────────────┼───────────────┤\n",
              "│ dense_1 (<span style=\"color: #0087ff; text-decoration-color: #0087ff\">Dense</span>)                 │ (<span style=\"color: #00d7ff; text-decoration-color: #00d7ff\">None</span>, <span style=\"color: #00af00; text-decoration-color: #00af00\">64</span>)             │         <span style=\"color: #00af00; text-decoration-color: #00af00\">8,256</span> │\n",
              "├─────────────────────────────────┼────────────────────────┼───────────────┤\n",
              "│ dense_2 (<span style=\"color: #0087ff; text-decoration-color: #0087ff\">Dense</span>)                 │ (<span style=\"color: #00d7ff; text-decoration-color: #00d7ff\">None</span>, <span style=\"color: #00af00; text-decoration-color: #00af00\">32</span>)             │         <span style=\"color: #00af00; text-decoration-color: #00af00\">2,080</span> │\n",
              "├─────────────────────────────────┼────────────────────────┼───────────────┤\n",
              "│ dense_3 (<span style=\"color: #0087ff; text-decoration-color: #0087ff\">Dense</span>)                 │ (<span style=\"color: #00d7ff; text-decoration-color: #00d7ff\">None</span>, <span style=\"color: #00af00; text-decoration-color: #00af00\">1</span>)              │            <span style=\"color: #00af00; text-decoration-color: #00af00\">33</span> │\n",
              "└─────────────────────────────────┴────────────────────────┴───────────────┘\n",
              "</pre>\n"
            ]
          },
          "metadata": {}
        },
        {
          "output_type": "display_data",
          "data": {
            "text/plain": [
              "\u001b[1m Total params: \u001b[0m\u001b[38;5;34m16,641\u001b[0m (65.00 KB)\n"
            ],
            "text/html": [
              "<pre style=\"white-space:pre;overflow-x:auto;line-height:normal;font-family:Menlo,'DejaVu Sans Mono',consolas,'Courier New',monospace\"><span style=\"font-weight: bold\"> Total params: </span><span style=\"color: #00af00; text-decoration-color: #00af00\">16,641</span> (65.00 KB)\n",
              "</pre>\n"
            ]
          },
          "metadata": {}
        },
        {
          "output_type": "display_data",
          "data": {
            "text/plain": [
              "\u001b[1m Trainable params: \u001b[0m\u001b[38;5;34m16,641\u001b[0m (65.00 KB)\n"
            ],
            "text/html": [
              "<pre style=\"white-space:pre;overflow-x:auto;line-height:normal;font-family:Menlo,'DejaVu Sans Mono',consolas,'Courier New',monospace\"><span style=\"font-weight: bold\"> Trainable params: </span><span style=\"color: #00af00; text-decoration-color: #00af00\">16,641</span> (65.00 KB)\n",
              "</pre>\n"
            ]
          },
          "metadata": {}
        },
        {
          "output_type": "display_data",
          "data": {
            "text/plain": [
              "\u001b[1m Non-trainable params: \u001b[0m\u001b[38;5;34m0\u001b[0m (0.00 B)\n"
            ],
            "text/html": [
              "<pre style=\"white-space:pre;overflow-x:auto;line-height:normal;font-family:Menlo,'DejaVu Sans Mono',consolas,'Courier New',monospace\"><span style=\"font-weight: bold\"> Non-trainable params: </span><span style=\"color: #00af00; text-decoration-color: #00af00\">0</span> (0.00 B)\n",
              "</pre>\n"
            ]
          },
          "metadata": {}
        },
        {
          "output_type": "stream",
          "name": "stdout",
          "text": [
            "None\n",
            "Epoch 1/50\n",
            "\u001b[1m1828/1828\u001b[0m \u001b[32m━━━━━━━━━━━━━━━━━━━━\u001b[0m\u001b[37m\u001b[0m \u001b[1m7s\u001b[0m 3ms/step - loss: 10292.7393 - mae: 69.3338 - val_loss: 88.4100 - val_mae: 7.9305\n",
            "Epoch 2/50\n",
            "\u001b[1m1828/1828\u001b[0m \u001b[32m━━━━━━━━━━━━━━━━━━━━\u001b[0m\u001b[37m\u001b[0m \u001b[1m6s\u001b[0m 3ms/step - loss: 87.7014 - mae: 7.9078 - val_loss: 83.9317 - val_mae: 7.7751\n",
            "Epoch 3/50\n",
            "\u001b[1m1828/1828\u001b[0m \u001b[32m━━━━━━━━━━━━━━━━━━━━\u001b[0m\u001b[37m\u001b[0m \u001b[1m5s\u001b[0m 3ms/step - loss: 84.3390 - mae: 7.8219 - val_loss: 80.1050 - val_mae: 7.6457\n",
            "Epoch 4/50\n",
            "\u001b[1m1828/1828\u001b[0m \u001b[32m━━━━━━━━━━━━━━━━━━━━\u001b[0m\u001b[37m\u001b[0m \u001b[1m7s\u001b[0m 4ms/step - loss: 82.8177 - mae: 7.7516 - val_loss: 81.3503 - val_mae: 7.6906\n",
            "Epoch 5/50\n",
            "\u001b[1m1828/1828\u001b[0m \u001b[32m━━━━━━━━━━━━━━━━━━━━\u001b[0m\u001b[37m\u001b[0m \u001b[1m5s\u001b[0m 3ms/step - loss: 81.7091 - mae: 7.7051 - val_loss: 80.9156 - val_mae: 7.6734\n",
            "Epoch 6/50\n",
            "\u001b[1m1828/1828\u001b[0m \u001b[32m━━━━━━━━━━━━━━━━━━━━\u001b[0m\u001b[37m\u001b[0m \u001b[1m5s\u001b[0m 3ms/step - loss: 83.0363 - mae: 7.7544 - val_loss: 79.1040 - val_mae: 7.6051\n",
            "Epoch 7/50\n",
            "\u001b[1m1828/1828\u001b[0m \u001b[32m━━━━━━━━━━━━━━━━━━━━\u001b[0m\u001b[37m\u001b[0m \u001b[1m6s\u001b[0m 3ms/step - loss: 81.1195 - mae: 7.6772 - val_loss: 81.7416 - val_mae: 7.7038\n",
            "Epoch 8/50\n",
            "\u001b[1m1828/1828\u001b[0m \u001b[32m━━━━━━━━━━━━━━━━━━━━\u001b[0m\u001b[37m\u001b[0m \u001b[1m5s\u001b[0m 3ms/step - loss: 81.1023 - mae: 7.6753 - val_loss: 79.7915 - val_mae: 7.6434\n",
            "Epoch 9/50\n",
            "\u001b[1m1828/1828\u001b[0m \u001b[32m━━━━━━━━━━━━━━━━━━━━\u001b[0m\u001b[37m\u001b[0m \u001b[1m6s\u001b[0m 3ms/step - loss: 79.6835 - mae: 7.6341 - val_loss: 78.7834 - val_mae: 7.5883\n",
            "Epoch 10/50\n",
            "\u001b[1m1828/1828\u001b[0m \u001b[32m━━━━━━━━━━━━━━━━━━━━\u001b[0m\u001b[37m\u001b[0m \u001b[1m9s\u001b[0m 3ms/step - loss: 79.9534 - mae: 7.6387 - val_loss: 78.7339 - val_mae: 7.5842\n",
            "Epoch 11/50\n",
            "\u001b[1m1828/1828\u001b[0m \u001b[32m━━━━━━━━━━━━━━━━━━━━\u001b[0m\u001b[37m\u001b[0m \u001b[1m8s\u001b[0m 4ms/step - loss: 81.4320 - mae: 7.6980 - val_loss: 83.9475 - val_mae: 7.7936\n",
            "Epoch 12/50\n",
            "\u001b[1m1828/1828\u001b[0m \u001b[32m━━━━━━━━━━━━━━━━━━━━\u001b[0m\u001b[37m\u001b[0m \u001b[1m5s\u001b[0m 3ms/step - loss: 80.1738 - mae: 7.6325 - val_loss: 82.2373 - val_mae: 7.7110\n",
            "Epoch 13/50\n",
            "\u001b[1m1828/1828\u001b[0m \u001b[32m━━━━━━━━━━━━━━━━━━━━\u001b[0m\u001b[37m\u001b[0m \u001b[1m6s\u001b[0m 3ms/step - loss: 79.2846 - mae: 7.5960 - val_loss: 81.2405 - val_mae: 7.6696\n",
            "Epoch 14/50\n",
            "\u001b[1m1828/1828\u001b[0m \u001b[32m━━━━━━━━━━━━━━━━━━━━\u001b[0m\u001b[37m\u001b[0m \u001b[1m5s\u001b[0m 3ms/step - loss: 79.7630 - mae: 7.6195 - val_loss: 79.4139 - val_mae: 7.6097\n",
            "Epoch 15/50\n",
            "\u001b[1m1828/1828\u001b[0m \u001b[32m━━━━━━━━━━━━━━━━━━━━\u001b[0m\u001b[37m\u001b[0m \u001b[1m6s\u001b[0m 3ms/step - loss: 79.1763 - mae: 7.6087 - val_loss: 79.9977 - val_mae: 7.6466\n",
            "Epoch 16/50\n",
            "\u001b[1m1828/1828\u001b[0m \u001b[32m━━━━━━━━━━━━━━━━━━━━\u001b[0m\u001b[37m\u001b[0m \u001b[1m9s\u001b[0m 3ms/step - loss: 78.2868 - mae: 7.5583 - val_loss: 78.6455 - val_mae: 7.5727\n",
            "Epoch 17/50\n",
            "\u001b[1m1828/1828\u001b[0m \u001b[32m━━━━━━━━━━━━━━━━━━━━\u001b[0m\u001b[37m\u001b[0m \u001b[1m6s\u001b[0m 3ms/step - loss: 79.6942 - mae: 7.6206 - val_loss: 80.0307 - val_mae: 7.6380\n",
            "Epoch 18/50\n",
            "\u001b[1m1828/1828\u001b[0m \u001b[32m━━━━━━━━━━━━━━━━━━━━\u001b[0m\u001b[37m\u001b[0m \u001b[1m11s\u001b[0m 3ms/step - loss: 78.8960 - mae: 7.5696 - val_loss: 80.6749 - val_mae: 7.6566\n",
            "Epoch 19/50\n",
            "\u001b[1m1828/1828\u001b[0m \u001b[32m━━━━━━━━━━━━━━━━━━━━\u001b[0m\u001b[37m\u001b[0m \u001b[1m5s\u001b[0m 2ms/step - loss: 78.2173 - mae: 7.5514 - val_loss: 78.7195 - val_mae: 7.5804\n",
            "Epoch 20/50\n",
            "\u001b[1m1828/1828\u001b[0m \u001b[32m━━━━━━━━━━━━━━━━━━━━\u001b[0m\u001b[37m\u001b[0m \u001b[1m7s\u001b[0m 3ms/step - loss: 78.3422 - mae: 7.5549 - val_loss: 79.6893 - val_mae: 7.6180\n",
            "Epoch 21/50\n",
            "\u001b[1m1828/1828\u001b[0m \u001b[32m━━━━━━━━━━━━━━━━━━━━\u001b[0m\u001b[37m\u001b[0m \u001b[1m5s\u001b[0m 3ms/step - loss: 78.5577 - mae: 7.5753 - val_loss: 80.5797 - val_mae: 7.6486\n",
            "Epoch 22/50\n",
            "\u001b[1m1828/1828\u001b[0m \u001b[32m━━━━━━━━━━━━━━━━━━━━\u001b[0m\u001b[37m\u001b[0m \u001b[1m5s\u001b[0m 3ms/step - loss: 77.2538 - mae: 7.5107 - val_loss: 79.3008 - val_mae: 7.6066\n",
            "Epoch 23/50\n",
            "\u001b[1m1828/1828\u001b[0m \u001b[32m━━━━━━━━━━━━━━━━━━━━\u001b[0m\u001b[37m\u001b[0m \u001b[1m6s\u001b[0m 3ms/step - loss: 77.9087 - mae: 7.5355 - val_loss: 81.0047 - val_mae: 7.6595\n",
            "Epoch 24/50\n",
            "\u001b[1m1828/1828\u001b[0m \u001b[32m━━━━━━━━━━━━━━━━━━━━\u001b[0m\u001b[37m\u001b[0m \u001b[1m10s\u001b[0m 3ms/step - loss: 77.5249 - mae: 7.5252 - val_loss: 79.4854 - val_mae: 7.6138\n",
            "Epoch 25/50\n",
            "\u001b[1m1828/1828\u001b[0m \u001b[32m━━━━━━━━━━━━━━━━━━━━\u001b[0m\u001b[37m\u001b[0m \u001b[1m10s\u001b[0m 3ms/step - loss: 77.4071 - mae: 7.5089 - val_loss: 80.6342 - val_mae: 7.6588\n",
            "Epoch 26/50\n",
            "\u001b[1m1828/1828\u001b[0m \u001b[32m━━━━━━━━━━━━━━━━━━━━\u001b[0m\u001b[37m\u001b[0m \u001b[1m9s\u001b[0m 3ms/step - loss: 77.5151 - mae: 7.5193 - val_loss: 84.9127 - val_mae: 7.8146\n",
            "Epoch 27/50\n",
            "\u001b[1m1828/1828\u001b[0m \u001b[32m━━━━━━━━━━━━━━━━━━━━\u001b[0m\u001b[37m\u001b[0m \u001b[1m6s\u001b[0m 3ms/step - loss: 77.5596 - mae: 7.5199 - val_loss: 82.9748 - val_mae: 7.7332\n",
            "Epoch 28/50\n",
            "\u001b[1m1828/1828\u001b[0m \u001b[32m━━━━━━━━━━━━━━━━━━━━\u001b[0m\u001b[37m\u001b[0m \u001b[1m5s\u001b[0m 3ms/step - loss: 76.4311 - mae: 7.4665 - val_loss: 87.4951 - val_mae: 7.8595\n",
            "Epoch 29/50\n",
            "\u001b[1m1828/1828\u001b[0m \u001b[32m━━━━━━━━━━━━━━━━━━━━\u001b[0m\u001b[37m\u001b[0m \u001b[1m5s\u001b[0m 3ms/step - loss: 77.3539 - mae: 7.5081 - val_loss: 81.7968 - val_mae: 7.6985\n",
            "Epoch 30/50\n",
            "\u001b[1m1828/1828\u001b[0m \u001b[32m━━━━━━━━━━━━━━━━━━━━\u001b[0m\u001b[37m\u001b[0m \u001b[1m5s\u001b[0m 3ms/step - loss: 77.5764 - mae: 7.5264 - val_loss: 77.6652 - val_mae: 7.5441\n",
            "Epoch 31/50\n",
            "\u001b[1m1828/1828\u001b[0m \u001b[32m━━━━━━━━━━━━━━━━━━━━\u001b[0m\u001b[37m\u001b[0m \u001b[1m5s\u001b[0m 3ms/step - loss: 77.2957 - mae: 7.5071 - val_loss: 81.1333 - val_mae: 7.6847\n",
            "Epoch 32/50\n",
            "\u001b[1m1828/1828\u001b[0m \u001b[32m━━━━━━━━━━━━━━━━━━━━\u001b[0m\u001b[37m\u001b[0m \u001b[1m10s\u001b[0m 3ms/step - loss: 76.7895 - mae: 7.4912 - val_loss: 79.6814 - val_mae: 7.6218\n",
            "Epoch 33/50\n",
            "\u001b[1m1828/1828\u001b[0m \u001b[32m━━━━━━━━━━━━━━━━━━━━\u001b[0m\u001b[37m\u001b[0m \u001b[1m5s\u001b[0m 3ms/step - loss: 76.5661 - mae: 7.4703 - val_loss: 79.7199 - val_mae: 7.6275\n",
            "Epoch 34/50\n",
            "\u001b[1m1828/1828\u001b[0m \u001b[32m━━━━━━━━━━━━━━━━━━━━\u001b[0m\u001b[37m\u001b[0m \u001b[1m5s\u001b[0m 3ms/step - loss: 75.6550 - mae: 7.4355 - val_loss: 88.6854 - val_mae: 7.9304\n",
            "Epoch 35/50\n",
            "\u001b[1m1828/1828\u001b[0m \u001b[32m━━━━━━━━━━━━━━━━━━━━\u001b[0m\u001b[37m\u001b[0m \u001b[1m5s\u001b[0m 3ms/step - loss: 76.3348 - mae: 7.4617 - val_loss: 78.9749 - val_mae: 7.5895\n",
            "Epoch 36/50\n",
            "\u001b[1m1828/1828\u001b[0m \u001b[32m━━━━━━━━━━━━━━━━━━━━\u001b[0m\u001b[37m\u001b[0m \u001b[1m6s\u001b[0m 3ms/step - loss: 75.8176 - mae: 7.4436 - val_loss: 79.4903 - val_mae: 7.6212\n",
            "Epoch 37/50\n",
            "\u001b[1m1828/1828\u001b[0m \u001b[32m━━━━━━━━━━━━━━━━━━━━\u001b[0m\u001b[37m\u001b[0m \u001b[1m5s\u001b[0m 3ms/step - loss: 76.0779 - mae: 7.4539 - val_loss: 86.7887 - val_mae: 7.8576\n",
            "Epoch 38/50\n",
            "\u001b[1m1828/1828\u001b[0m \u001b[32m━━━━━━━━━━━━━━━━━━━━\u001b[0m\u001b[37m\u001b[0m \u001b[1m6s\u001b[0m 3ms/step - loss: 76.9402 - mae: 7.4813 - val_loss: 83.0225 - val_mae: 7.7546\n",
            "Epoch 39/50\n",
            "\u001b[1m1828/1828\u001b[0m \u001b[32m━━━━━━━━━━━━━━━━━━━━\u001b[0m\u001b[37m\u001b[0m \u001b[1m5s\u001b[0m 3ms/step - loss: 76.2051 - mae: 7.4457 - val_loss: 81.2942 - val_mae: 7.6826\n",
            "Epoch 40/50\n",
            "\u001b[1m1828/1828\u001b[0m \u001b[32m━━━━━━━━━━━━━━━━━━━━\u001b[0m\u001b[37m\u001b[0m \u001b[1m6s\u001b[0m 3ms/step - loss: 75.9618 - mae: 7.4230 - val_loss: 79.8923 - val_mae: 7.6457\n",
            "Epoch 41/50\n",
            "\u001b[1m1828/1828\u001b[0m \u001b[32m━━━━━━━━━━━━━━━━━━━━\u001b[0m\u001b[37m\u001b[0m \u001b[1m10s\u001b[0m 3ms/step - loss: 75.3801 - mae: 7.4071 - val_loss: 79.8304 - val_mae: 7.6223\n",
            "Epoch 42/50\n",
            "\u001b[1m1828/1828\u001b[0m \u001b[32m━━━━━━━━━━━━━━━━━━━━\u001b[0m\u001b[37m\u001b[0m \u001b[1m6s\u001b[0m 3ms/step - loss: 75.7381 - mae: 7.4208 - val_loss: 79.5164 - val_mae: 7.6065\n",
            "Epoch 43/50\n",
            "\u001b[1m1828/1828\u001b[0m \u001b[32m━━━━━━━━━━━━━━━━━━━━\u001b[0m\u001b[37m\u001b[0m \u001b[1m9s\u001b[0m 3ms/step - loss: 74.6487 - mae: 7.3608 - val_loss: 85.2287 - val_mae: 7.8218\n",
            "Epoch 44/50\n",
            "\u001b[1m1828/1828\u001b[0m \u001b[32m━━━━━━━━━━━━━━━━━━━━\u001b[0m\u001b[37m\u001b[0m \u001b[1m10s\u001b[0m 3ms/step - loss: 75.2198 - mae: 7.3935 - val_loss: 79.3414 - val_mae: 7.6167\n",
            "Epoch 45/50\n",
            "\u001b[1m1828/1828\u001b[0m \u001b[32m━━━━━━━━━━━━━━━━━━━━\u001b[0m\u001b[37m\u001b[0m \u001b[1m6s\u001b[0m 3ms/step - loss: 75.3504 - mae: 7.3986 - val_loss: 79.8596 - val_mae: 7.6111\n",
            "Epoch 46/50\n",
            "\u001b[1m1828/1828\u001b[0m \u001b[32m━━━━━━━━━━━━━━━━━━━━\u001b[0m\u001b[37m\u001b[0m \u001b[1m9s\u001b[0m 3ms/step - loss: 74.4868 - mae: 7.3622 - val_loss: 78.7305 - val_mae: 7.5787\n",
            "Epoch 47/50\n",
            "\u001b[1m1828/1828\u001b[0m \u001b[32m━━━━━━━━━━━━━━━━━━━━\u001b[0m\u001b[37m\u001b[0m \u001b[1m6s\u001b[0m 3ms/step - loss: 74.4060 - mae: 7.3545 - val_loss: 79.7986 - val_mae: 7.6317\n",
            "Epoch 48/50\n",
            "\u001b[1m1828/1828\u001b[0m \u001b[32m━━━━━━━━━━━━━━━━━━━━\u001b[0m\u001b[37m\u001b[0m \u001b[1m10s\u001b[0m 3ms/step - loss: 74.6925 - mae: 7.3748 - val_loss: 81.0443 - val_mae: 7.6547\n",
            "Epoch 49/50\n",
            "\u001b[1m1828/1828\u001b[0m \u001b[32m━━━━━━━━━━━━━━━━━━━━\u001b[0m\u001b[37m\u001b[0m \u001b[1m10s\u001b[0m 3ms/step - loss: 74.8146 - mae: 7.3839 - val_loss: 80.7552 - val_mae: 7.6521\n",
            "Epoch 50/50\n",
            "\u001b[1m1828/1828\u001b[0m \u001b[32m━━━━━━━━━━━━━━━━━━━━\u001b[0m\u001b[37m\u001b[0m \u001b[1m5s\u001b[0m 3ms/step - loss: 75.1619 - mae: 7.3834 - val_loss: 93.8976 - val_mae: 8.1016\n"
          ]
        }
      ]
    },
    {
      "cell_type": "markdown",
      "source": [
        "# Model Evaluation"
      ],
      "metadata": {
        "id": "mP4NRYN9M6Xe"
      }
    },
    {
      "cell_type": "code",
      "source": [
        "test_loss = model.evaluate(x_test, y_test)\n",
        "print(  f'Test Loss: {test_loss[0]:.4f}')\n",
        "print(  f'Test MAE: {test_loss[1]:.4f}')"
      ],
      "metadata": {
        "colab": {
          "base_uri": "https://localhost:8080/"
        },
        "id": "qiOs1usj6MG1",
        "outputId": "fc1d91e9-98d3-4814-dc45-f91093a7e716"
      },
      "execution_count": 15,
      "outputs": [
        {
          "output_type": "stream",
          "name": "stdout",
          "text": [
            "\u001b[1m229/229\u001b[0m \u001b[32m━━━━━━━━━━━━━━━━━━━━\u001b[0m\u001b[37m\u001b[0m \u001b[1m0s\u001b[0m 2ms/step - loss: 92.9843 - mae: 8.1033\n",
            "Test Loss: 94.0054\n",
            "Test MAE: 8.1440\n"
          ]
        }
      ]
    },
    {
      "cell_type": "markdown",
      "source": [
        "# Saving the model"
      ],
      "metadata": {
        "id": "gmpJVbpzXZ_a"
      }
    },
    {
      "cell_type": "code",
      "source": [
        "model.save(\"demand_forecasting_model.keras\")\n",
        "#model.save(\"demand_forecasting_model.h5\")\n"
      ],
      "metadata": {
        "id": "SxgYqNcKXdR7"
      },
      "execution_count": 16,
      "outputs": []
    },
    {
      "cell_type": "code",
      "source": [
        "# Save this to use during inference\n",
        "ohe_columns = df_encoded.columns.tolist()\n",
        "from sklearn.preprocessing import OneHotEncoder\n",
        "import pickle\n",
        "\n",
        "ohe = OneHotEncoder(sparse_output=False, handle_unknown='ignore')\n",
        "encoded_features = ohe.fit_transform(df[one_hot_cols])\n",
        "\n",
        "# Save encoder\n",
        "with open('ohe_encoder.pkl', 'wb') as f:\n",
        "    pickle.dump(ohe, f)\n",
        "#save scaler\n",
        "with open('scaler.pkl', 'wb') as f:\n",
        "    pickle.dump(scaler, f)\n"
      ],
      "metadata": {
        "id": "cJ6Qk3XwX_-n"
      },
      "execution_count": null,
      "outputs": []
    },
    {
      "cell_type": "code",
      "source": [
        "feature_columns = list(x_train.columns) # o)r X.columns if using a DataFrame\n",
        "\n",
        "import pickle\n",
        "with open(\"feature_columns.pkl\", \"wb\") as f:\n",
        "  pickle.dump(feature_columns, f)\n",
        "print(feature_columns)\n"
      ],
      "metadata": {
        "colab": {
          "base_uri": "https://localhost:8080/"
        },
        "id": "RLTYG6y8GkTu",
        "outputId": "820072d2-54c5-4d8f-fa44-88bbdffe976d"
      },
      "execution_count": null,
      "outputs": [
        {
          "output_type": "stream",
          "name": "stdout",
          "text": [
            "['Inventory Level', 'Units Sold', 'Units Ordered', 'Price', 'Holiday/Promotion', 'Competitor Pricing', 'Product ID_P0001', 'Product ID_P0002', 'Product ID_P0003', 'Product ID_P0004', 'Product ID_P0005', 'Product ID_P0006', 'Product ID_P0007', 'Product ID_P0008', 'Product ID_P0009', 'Product ID_P0010', 'Product ID_P0011', 'Product ID_P0012', 'Product ID_P0013', 'Product ID_P0014', 'Product ID_P0015', 'Product ID_P0016', 'Product ID_P0017', 'Product ID_P0018', 'Product ID_P0019', 'Product ID_P0020', 'Category_Clothing', 'Category_Electronics', 'Category_Furniture', 'Category_Groceries', 'Category_Toys', 'Region_East', 'Region_North', 'Region_South', 'Region_West', 'Discount_0', 'Discount_5', 'Discount_10', 'Discount_15', 'Discount_20', 'Weather Condition_Cloudy', 'Weather Condition_Rainy', 'Weather Condition_Snowy', 'Weather Condition_Sunny', 'Seasonality_Autumn', 'Seasonality_Spring', 'Seasonality_Summer', 'Seasonality_Winter']\n"
          ]
        }
      ]
    },
    {
      "cell_type": "markdown",
      "source": [
        "# Prediction"
      ],
      "metadata": {
        "id": "lthNi6IbXkEo"
      }
    },
    {
      "cell_type": "code",
      "source": [
        "predictions = model.predict(x_test)"
      ],
      "metadata": {
        "colab": {
          "base_uri": "https://localhost:8080/"
        },
        "id": "IWTdWPrpXeQZ",
        "outputId": "d7d7f4f4-92c8-4be9-8f38-f00b2f060822"
      },
      "execution_count": null,
      "outputs": [
        {
          "output_type": "stream",
          "name": "stdout",
          "text": [
            "\u001b[1m229/229\u001b[0m \u001b[32m━━━━━━━━━━━━━━━━━━━━\u001b[0m\u001b[37m\u001b[0m \u001b[1m0s\u001b[0m 1ms/step\n"
          ]
        }
      ]
    },
    {
      "cell_type": "code",
      "source": [
        "plt.plot(y_test.values, label=\"Actual\")\n",
        "plt.plot(predictions, label=\"Predicted\")\n",
        "plt.legend()\n",
        "plt.title(\"Actual vs Predicted Demand\")\n",
        "plt.show()\n"
      ],
      "metadata": {
        "colab": {
          "base_uri": "https://localhost:8080/",
          "height": 452
        },
        "id": "pG0zPCCVXo6W",
        "outputId": "60b56c82-dc12-44d4-a5d7-a1768228ab97"
      },
      "execution_count": null,
      "outputs": [
        {
          "output_type": "display_data",
          "data": {
            "text/plain": [
              "<Figure size 640x480 with 1 Axes>"
            ],
            "image/png": "[encoded data removed]"
          },
          "metadata": {}
        }
      ]
    },
    {
      "cell_type": "markdown",
      "source": [
        "END!!"
      ],
      "metadata": {
        "id": "P0ekBxz3DfQO"
      }
    }
  ]
}